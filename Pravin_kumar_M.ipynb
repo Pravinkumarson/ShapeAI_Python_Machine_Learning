{
  "nbformat": 4,
  "nbformat_minor": 0,
  "metadata": {
    "colab": {
      "name": "Pravin_kumar_M.ipynb",
      "provenance": []
    },
    "kernelspec": {
      "name": "python3",
      "display_name": "Python 3"
    },
    "language_info": {
      "name": "python"
    }
  },
  "cells": [
    {
      "cell_type": "code",
      "metadata": {
        "id": "-milMgejCKMK"
      },
      "source": [
        "import numpy as np\n",
        "import pandas as pd\n",
        "import sklearn"
      ],
      "execution_count": 4,
      "outputs": []
    },
    {
      "cell_type": "markdown",
      "metadata": {
        "id": "q_jRN1taHXYg"
      },
      "source": [
        "here we using boston house pricing dataset which is available in sklearn"
      ]
    },
    {
      "cell_type": "code",
      "metadata": {
        "id": "YVTpoHBHCiLU"
      },
      "source": [
        "from sk.learn.datasets import load_boston\n",
        "df = load_boston()"
      ],
      "execution_count": null,
      "outputs": []
    },
    {
      "cell_type": "code",
      "metadata": {
        "id": "WUglnwVVCxFd"
      },
      "source": [
        "df.keys()"
      ],
      "execution_count": null,
      "outputs": []
    },
    {
      "cell_type": "code",
      "metadata": {
        "id": "e1XpXQzfGRQl"
      },
      "source": [
        "print(df.DESCR)"
      ],
      "execution_count": null,
      "outputs": []
    },
    {
      "cell_type": "markdown",
      "metadata": {
        "id": "OihCou3yC6vg"
      },
      "source": [
        "dict_keys(['data','target','features_names','DESER','filename'])"
      ]
    },
    {
      "cell_type": "code",
      "metadata": {
        "id": "ofxYugOhDYu0"
      },
      "source": [
        "boston = pd.DataFrame(df.data, columns=df.features_names)\n",
        "boston.head()"
      ],
      "execution_count": null,
      "outputs": []
    },
    {
      "cell_type": "code",
      "metadata": {
        "id": "DsfzSG-yHJza"
      },
      "source": [
        "boston.isnull()\n"
      ],
      "execution_count": null,
      "outputs": []
    },
    {
      "cell_type": "code",
      "metadata": {
        "id": "O7mCK72QHzh3"
      },
      "source": [
        "from sklearn.model_selection import train_test_split\n",
        "x= boston.drop('MEDV', axis=1)\n",
        "y= boston[\"MEDV\"]\n",
        "X_train,X_test,Y_train,Y_test=train_test_split(X,Y,test_size=0.15, random_state=5)\n",
        "print(X_train.shape)\n",
        "print(X_test.shape)\n",
        "print(Y_train.shape)\n",
        "print(Y_test.shape)\n",
        "\n"
      ],
      "execution_count": null,
      "outputs": []
    },
    {
      "cell_type": "code",
      "metadata": {
        "id": "PasYnWzyLCRf"
      },
      "source": [
        "from sklearn.linear_model import LinearRegression\n",
        "from sklearn.metrics import mean_squared_erroe\n",
        "X= boston.drop('MEDV', axis=1)\n",
        "X_train,X_test,Y_train,Y_test=train_test_split(X,Y,test_size=0.15, random_state=5)"
      ],
      "execution_count": null,
      "outputs": []
    },
    {
      "cell_type": "code",
      "metadata": {
        "id": "AA6unOU4LlD4"
      },
      "source": [
        "lin_model =LinearRegression()\n",
        "lin_model.fit(X_train,Y_train)"
      ],
      "execution_count": null,
      "outputs": []
    },
    {
      "cell_type": "code",
      "metadata": {
        "id": "IN5Rg_NcL3ZL"
      },
      "source": [
        "y_train_predict=lin_model.predict(X_train)\n",
        "rmse =(np.sqrt(mean_squarred_error(Y_train,y_test_predict)))\n",
        "print(\"The model performance for training set\")\n",
        "print('RMSE is {}'.format(rmse))\n",
        "print('/n')\n",
        "y_test_predict=lin_model.predict(X_train)\n",
        "rmse =(np.sqrt(mean_squarred_error(Y_train,y_test_predict)))\n",
        "print(\"The model performance for testing set\")\n",
        "print('RMSE is {}'.format(rmse))\n",
        "print('/n')"
      ],
      "execution_count": null,
      "outputs": []
    }
  ]
}